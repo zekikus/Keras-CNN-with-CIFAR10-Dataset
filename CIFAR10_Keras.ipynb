{
 "cells": [
  {
   "cell_type": "code",
   "execution_count": 41,
   "metadata": {
    "colab": {
     "autoexec": {
      "startup": false,
      "wait_interval": 0
     },
     "base_uri": "https://localhost:8080/",
     "height": 136
    },
    "colab_type": "code",
    "executionInfo": {
     "elapsed": 36536,
     "status": "ok",
     "timestamp": 1525453237323,
     "user": {
      "displayName": "Zeki Kuş",
      "photoUrl": "https://lh3.googleusercontent.com/a/default-user=s128",
      "userId": "113800785453624523681"
     },
     "user_tz": -180
    },
    "id": "eZ3xO8XDZBfy",
    "outputId": "00b70aca-41cd-48e9-dd5f-77329ccb318b"
   },
   "outputs": [
    {
     "name": "stdout",
     "output_type": "stream",
     "text": [
      "gpg: keybox '/tmp/tmpjzew0yrr/pubring.gpg' created\n",
      "gpg: /tmp/tmpjzew0yrr/trustdb.gpg: trustdb created\n",
      "gpg: key AD5F235DF639B041: public key \"Launchpad PPA for Alessandro Strada\" imported\n",
      "gpg: Total number processed: 1\n",
      "gpg:               imported: 1\n",
      "Warning: apt-key output should not be parsed (stdout is not a terminal)\n",
      "··········\n"
     ]
    }
   ],
   "source": [
    "!apt-get install -y -qq software-properties-common python-software-properties module-init-tools\n",
    "!add-apt-repository -y ppa:alessandro-strada/ppa 2>&1 > /dev/null\n",
    "!apt-get update -qq 2>&1 > /dev/null\n",
    "!apt-get -y install -qq google-drive-ocamlfuse fuse\n",
    "from google.colab import auth\n",
    "auth.authenticate_user()\n",
    "from oauth2client.client import GoogleCredentials\n",
    "creds = GoogleCredentials.get_application_default()\n",
    "import getpass\n",
    "!google-drive-ocamlfuse -headless -id={creds.client_id} -secret={creds.client_secret} < /dev/null 2>&1 | grep URL\n",
    "vcode = getpass.getpass()\n",
    "!echo {vcode} | google-drive-ocamlfuse -headless -id={creds.client_id} -secret={creds.client_secret}"
   ]
  },
  {
   "cell_type": "code",
   "execution_count": 42,
   "metadata": {
    "colab": {
     "autoexec": {
      "startup": false,
      "wait_interval": 0
     },
     "base_uri": "https://localhost:8080/",
     "height": 51
    },
    "colab_type": "code",
    "executionInfo": {
     "elapsed": 2766,
     "status": "ok",
     "timestamp": 1525453243949,
     "user": {
      "displayName": "Zeki Kuş",
      "photoUrl": "https://lh3.googleusercontent.com/a/default-user=s128",
      "userId": "113800785453624523681"
     },
     "user_tz": -180
    },
    "id": "D00Qk8m3ZF7N",
    "outputId": "dc3d2f38-2e0a-4ef4-d957-a0230c6f0a6d"
   },
   "outputs": [
    {
     "name": "stdout",
     "output_type": "stream",
     "text": [
      "fuse: mountpoint is not empty\r\n",
      "fuse: if you are sure this is safe, use the 'nonempty' mount option\r\n"
     ]
    }
   ],
   "source": [
    "!mkdir -p drive\n",
    "!google-drive-ocamlfuse drive"
   ]
  },
  {
   "cell_type": "code",
   "execution_count": 1,
   "metadata": {
    "colab": {
     "autoexec": {
      "startup": false,
      "wait_interval": 0
     },
     "base_uri": "https://localhost:8080/",
     "height": 34
    },
    "colab_type": "code",
    "executionInfo": {
     "elapsed": 1562,
     "status": "ok",
     "timestamp": 1525450730641,
     "user": {
      "displayName": "Zeki Kuş",
      "photoUrl": "https://lh3.googleusercontent.com/a/default-user=s128",
      "userId": "113800785453624523681"
     },
     "user_tz": -180
    },
    "id": "F_AD0Kg7ZIav",
    "outputId": "c383c40f-9289-4aaf-e28b-4ab36dc481fd"
   },
   "outputs": [
    {
     "name": "stderr",
     "output_type": "stream",
     "text": [
      "/home/zekikus/anaconda3/lib/python3.6/site-packages/h5py/__init__.py:36: FutureWarning: Conversion of the second argument of issubdtype from `float` to `np.floating` is deprecated. In future, it will be treated as `np.float64 == np.dtype(float).type`.\n",
      "  from ._conv import register_converters as _register_converters\n",
      "Using TensorFlow backend.\n"
     ]
    }
   ],
   "source": [
    "import numpy as np\n",
    "import pandas as pd\n",
    "import tensorflow as tf\n",
    "from sklearn.model_selection import train_test_split\n",
    "from keras.utils import to_categorical\n",
    "import matplotlib.pyplot as plt\n",
    "import keras\n",
    "from keras.datasets import cifar10"
   ]
  },
  {
   "cell_type": "code",
   "execution_count": 2,
   "metadata": {
    "colab": {
     "autoexec": {
      "startup": false,
      "wait_interval": 0
     }
    },
    "colab_type": "code",
    "id": "hDLtWk3YgZZ6"
   },
   "outputs": [],
   "source": [
    "(x_train, y_train), (x_test, y_test) = cifar10.load_data()"
   ]
  },
  {
   "cell_type": "code",
   "execution_count": 3,
   "metadata": {
    "colab": {
     "autoexec": {
      "startup": false,
      "wait_interval": 0
     }
    },
    "colab_type": "code",
    "id": "NLA2494IZPJX"
   },
   "outputs": [],
   "source": [
    "input_shape = [None, 32, 32, 3]\n",
    "number_of_classes = 10\n",
    "\n",
    "y_train = to_categorical(y_train, number_of_classes)\n",
    "y_test = to_categorical(y_test, number_of_classes)"
   ]
  },
  {
   "cell_type": "code",
   "execution_count": 4,
   "metadata": {
    "colab": {
     "autoexec": {
      "startup": false,
      "wait_interval": 0
     },
     "base_uri": "https://localhost:8080/",
     "height": 85
    },
    "colab_type": "code",
    "executionInfo": {
     "elapsed": 568,
     "status": "ok",
     "timestamp": 1525450736662,
     "user": {
      "displayName": "Zeki Kuş",
      "photoUrl": "https://lh3.googleusercontent.com/a/default-user=s128",
      "userId": "113800785453624523681"
     },
     "user_tz": -180
    },
    "id": "0X-ZefV4hi1z",
    "outputId": "e8d1dad9-6c8b-4e0a-afbd-2f91e024f0cc"
   },
   "outputs": [
    {
     "name": "stdout",
     "output_type": "stream",
     "text": [
      "Shape of training features: (50000, 32, 32, 3)\n",
      "Shape of training lables: (50000, 10)\n",
      "Shape of testing features: (10000, 32, 32, 3)\n",
      "Shape of testing lables: (10000, 10)\n"
     ]
    }
   ],
   "source": [
    "print(\"Shape of training features: {}\".format(x_train.shape))\n",
    "print(\"Shape of training lables: {}\".format(y_train.shape))\n",
    "print(\"Shape of testing features: {}\".format(x_test.shape))\n",
    "print(\"Shape of testing lables: {}\".format(y_test.shape))"
   ]
  },
  {
   "cell_type": "code",
   "execution_count": 5,
   "metadata": {
    "colab": {
     "autoexec": {
      "startup": false,
      "wait_interval": 0
     }
    },
    "colab_type": "code",
    "id": "dusSPSGEhQ0v"
   },
   "outputs": [],
   "source": [
    "learning_rate = 0.01\n",
    "epochs = 50\n",
    "batch_size = 32\n",
    "num_classes = 10"
   ]
  },
  {
   "cell_type": "code",
   "execution_count": 6,
   "metadata": {
    "colab": {
     "autoexec": {
      "startup": false,
      "wait_interval": 0
     },
     "base_uri": "https://localhost:8080/",
     "height": 364
    },
    "colab_type": "code",
    "executionInfo": {
     "elapsed": 785,
     "status": "ok",
     "timestamp": 1525450740026,
     "user": {
      "displayName": "Zeki Kuş",
      "photoUrl": "https://lh3.googleusercontent.com/a/default-user=s128",
      "userId": "113800785453624523681"
     },
     "user_tz": -180
    },
    "id": "rtF8G7YZZ8IJ",
    "outputId": "3b117ac9-42d4-4812-d5e5-99bf6baa699f"
   },
   "outputs": [
    {
     "data": {
      "text/plain": [
       "<matplotlib.image.AxesImage at 0x7f29b522fc18>"
      ]
     },
     "execution_count": 6,
     "metadata": {},
     "output_type": "execute_result"
    },
    {
     "data": {
      "image/png": "[encoded data removed]",
      "text/plain": [
       "<matplotlib.figure.Figure at 0x7f29be7dbf28>"
      ]
     },
     "metadata": {},
     "output_type": "display_data"
    }
   ],
   "source": [
    "plt.imshow(x_train[1])"
   ]
  },
  {
   "cell_type": "code",
   "execution_count": 7,
   "metadata": {
    "colab": {
     "autoexec": {
      "startup": false,
      "wait_interval": 0
     },
     "base_uri": "https://localhost:8080/",
     "height": 51
    },
    "colab_type": "code",
    "executionInfo": {
     "elapsed": 1548,
     "status": "ok",
     "timestamp": 1525450742528,
     "user": {
      "displayName": "Zeki Kuş",
      "photoUrl": "https://lh3.googleusercontent.com/a/default-user=s128",
      "userId": "113800785453624523681"
     },
     "user_tz": -180
    },
    "id": "5An8SAuhaQF7",
    "outputId": "b07bbd6a-42a0-4990-b189-d7ee9167fc36"
   },
   "outputs": [
    {
     "name": "stdout",
     "output_type": "stream",
     "text": [
      "Number of examples in training set: 45000\n",
      "Number of examples in cross validation set: 5000\n"
     ]
    }
   ],
   "source": [
    "x_train, cv_x, y_train, cv_y = train_test_split(x_train, y_train, \n",
    "                                                test_size = 5000, random_state = 42)\n",
    "\n",
    "print(\"Number of examples in training set: {}\".format(x_train.shape[0]))\n",
    "print(\"Number of examples in cross validation set: {}\".format(cv_x.shape[0]))"
   ]
  },
  {
   "cell_type": "code",
   "execution_count": 8,
   "metadata": {
    "colab": {
     "autoexec": {
      "startup": false,
      "wait_interval": 0
     }
    },
    "colab_type": "code",
    "id": "6wuLKvcRkamg"
   },
   "outputs": [],
   "source": [
    "x_train = x_train.astype('float32')\n",
    "x_test = x_test.astype('float32')\n",
    "x_train /= 255 # Input Scaling\n",
    "x_test /= 255"
   ]
  },
  {
   "cell_type": "code",
   "execution_count": 9,
   "metadata": {
    "colab": {
     "autoexec": {
      "startup": false,
      "wait_interval": 0
     }
    },
    "colab_type": "code",
    "id": "x-u9z_-v0Pnw"
   },
   "outputs": [],
   "source": [
    "from keras.models import Sequential\n",
    "from keras.layers import Dense, Dropout, Activation, Flatten\n",
    "from keras.layers import Conv2D, MaxPooling2D"
   ]
  },
  {
   "cell_type": "code",
   "execution_count": 11,
   "metadata": {
    "colab": {
     "autoexec": {
      "startup": false,
      "wait_interval": 0
     }
    },
    "colab_type": "code",
    "id": "TKGsbE8f0Vdz"
   },
   "outputs": [],
   "source": [
    "model = Sequential()\n",
    "model.add(Conv2D(32, (3, 3), padding='same',\n",
    "                 input_shape=x_train.shape[1:]))\n",
    "model.add(Activation('relu'))\n",
    "model.add(Conv2D(32, (3, 3)))\n",
    "model.add(Activation('relu'))\n",
    "model.add(MaxPooling2D(pool_size=(2, 2)))\n",
    "model.add(Dropout(0.25))\n",
    "\n",
    "model.add(Conv2D(64, (3, 3), padding='same'))\n",
    "model.add(Activation('relu'))\n",
    "model.add(Conv2D(64, (3, 3)))\n",
    "model.add(Activation('relu'))\n",
    "model.add(MaxPooling2D(pool_size=(2, 2)))\n",
    "model.add(Dropout(0.25))\n",
    "\n",
    "model.add(Flatten())\n",
    "model.add(Dense(512))\n",
    "model.add(Activation('relu'))\n",
    "model.add(Dropout(0.5))\n",
    "model.add(Dense(num_classes))\n",
    "model.add(Activation('softmax'))"
   ]
  },
  {
   "cell_type": "code",
   "execution_count": 12,
   "metadata": {
    "colab": {
     "autoexec": {
      "startup": false,
      "wait_interval": 0
     }
    },
    "colab_type": "code",
    "id": "w3oB7at80Wq0"
   },
   "outputs": [],
   "source": [
    "# Adam Optimizer\n",
    "opt = keras.optimizers.Adam(lr=0.0001)\n",
    "model.compile(loss='categorical_crossentropy',\n",
    "              optimizer=opt,\n",
    "              metrics=['accuracy'])"
   ]
  },
  {
   "cell_type": "code",
   "execution_count": 18,
   "metadata": {
    "cellView": "code",
    "colab": {
     "autoexec": {
      "startup": false,
      "wait_interval": 0
     },
     "base_uri": "https://localhost:8080/",
     "height": 1771
    },
    "colab_type": "code",
    "executionInfo": {
     "elapsed": 1654767,
     "status": "ok",
     "timestamp": 1525452466150,
     "user": {
      "displayName": "Zeki Kuş",
      "photoUrl": "https://lh3.googleusercontent.com/a/default-user=s128",
      "userId": "113800785453624523681"
     },
     "user_tz": -180
    },
    "id": "aauzFRyH0ZIq",
    "outputId": "d0e6ad85-c75c-489d-f215-7e40553f4470"
   },
   "outputs": [
    {
     "name": "stdout",
     "output_type": "stream",
     "text": [
      "Train on 45000 samples, validate on 10000 samples\n",
      "Epoch 1/50\n",
      "45000/45000 [==============================] - 35s 769us/step - loss: 1.7804 - acc: 0.3493 - val_loss: 1.4932 - val_acc: 0.4621\n",
      "Epoch 2/50\n",
      " 7616/45000 [====>.........................] - ETA: 26s - loss: 1.5345 - acc: 0.443945000/45000 [==============================] - 33s 733us/step - loss: 1.4637 - acc: 0.4720 - val_loss: 1.3256 - val_acc: 0.5282\n",
      "Epoch 3/50\n",
      "25824/45000 [================>.............] - ETA: 13s - loss: 1.3628 - acc: 0.510345000/45000 [==============================] - 33s 740us/step - loss: 1.3390 - acc: 0.5199 - val_loss: 1.2247 - val_acc: 0.5678\n",
      "Epoch 4/50\n",
      "32416/45000 [====================>.........] - ETA: 8s - loss: 1.2529 - acc: 0.554145000/45000 [==============================] - 33s 738us/step - loss: 1.2485 - acc: 0.5554 - val_loss: 1.1682 - val_acc: 0.5859\n",
      "Epoch 5/50\n",
      "35296/45000 [======================>.......] - ETA: 6s - loss: 1.1848 - acc: 0.581945000/45000 [==============================] - 33s 736us/step - loss: 1.1803 - acc: 0.5829 - val_loss: 1.0952 - val_acc: 0.6120\n",
      "Epoch 6/50\n",
      "36704/45000 [=======================>......] - ETA: 5s - loss: 1.1234 - acc: 0.602445000/45000 [==============================] - 33s 736us/step - loss: 1.1194 - acc: 0.6032 - val_loss: 1.0345 - val_acc: 0.6374\n",
      "Epoch 7/50\n",
      "36960/45000 [=======================>......] - ETA: 5s - loss: 1.0717 - acc: 0.622645000/45000 [==============================] - 33s 740us/step - loss: 1.0668 - acc: 0.6247 - val_loss: 1.0038 - val_acc: 0.6475\n",
      "Epoch 8/50\n",
      "36192/45000 [=======================>......] - ETA: 6s - loss: 1.0132 - acc: 0.642645000/45000 [==============================] - 33s 737us/step - loss: 1.0162 - acc: 0.6419 - val_loss: 0.9544 - val_acc: 0.6722\n",
      "Epoch 9/50\n",
      "36256/45000 [=======================>......] - ETA: 6s - loss: 0.9792 - acc: 0.659045000/45000 [==============================] - 33s 739us/step - loss: 0.9795 - acc: 0.6583 - val_loss: 0.9338 - val_acc: 0.6786\n",
      "Epoch 10/50\n",
      "36672/45000 [=======================>......] - ETA: 5s - loss: 0.9403 - acc: 0.67145000/45000 [==============================] - 33s 734us/step - loss: 0.9375 - acc: 0.6729 - val_loss: 0.8883 - val_acc: 0.6921\n",
      "Epoch 11/50\n",
      "36672/45000 [=======================>......] - ETA: 5s - loss: 0.9060 - acc: 0.683745000/45000 [==============================] - 33s 732us/step - loss: 0.9046 - acc: 0.6834 - val_loss: 0.8758 - val_acc: 0.7010\n",
      "Epoch 12/50\n",
      "36576/45000 [=======================>......] - ETA: 5s - loss: 0.8718 - acc: 0.695145000/45000 [==============================] - 33s 734us/step - loss: 0.8733 - acc: 0.6945 - val_loss: 0.8471 - val_acc: 0.7095\n",
      "Epoch 13/50\n",
      "36608/45000 [=======================>......] - ETA: 5s - loss: 0.8451 - acc: 0.706245000/45000 [==============================] - 33s 733us/step - loss: 0.8457 - acc: 0.7058 - val_loss: 0.8332 - val_acc: 0.7162\n",
      "Epoch 14/50\n",
      "36480/45000 [=======================>......] - ETA: 5s - loss: 0.8134 - acc: 0.716745000/45000 [==============================] - 33s 732us/step - loss: 0.8161 - acc: 0.7150 - val_loss: 0.8076 - val_acc: 0.7247\n",
      "Epoch 15/50\n",
      "36160/45000 [=======================>......] - ETA: 6s - loss: 0.7973 - acc: 0.723545000/45000 [==============================] - 33s 733us/step - loss: 0.7908 - acc: 0.7252 - val_loss: 0.8425 - val_acc: 0.7078\n",
      "Epoch 16/50\n",
      "36992/45000 [=======================>......] - ETA: 5s - loss: 0.7663 - acc: 0.732745000/45000 [==============================] - 33s 738us/step - loss: 0.7681 - acc: 0.7316 - val_loss: 0.7757 - val_acc: 0.7323\n",
      "Epoch 17/50\n",
      "36864/45000 [=======================>......] - ETA: 5s - loss: 0.7346 - acc: 0.743345000/45000 [==============================] - 33s 733us/step - loss: 0.7357 - acc: 0.7425 - val_loss: 0.7666 - val_acc: 0.7379\n",
      "Epoch 18/50\n",
      "36704/45000 [=======================>......] - ETA: 5s - loss: 0.7180 - acc: 0.749345000/45000 [==============================] - 33s 731us/step - loss: 0.7145 - acc: 0.7505 - val_loss: 0.7670 - val_acc: 0.7381\n",
      "Epoch 19/50\n",
      "36640/45000 [=======================>......] - ETA: 5s - loss: 0.6983 - acc: 0.756345000/45000 [==============================] - 33s 733us/step - loss: 0.6946 - acc: 0.7573 - val_loss: 0.7467 - val_acc: 0.7429\n",
      "Epoch 20/50\n",
      "36800/45000 [=======================>......] - ETA: 5s - loss: 0.6757 - acc: 0.763845000/45000 [==============================] - 33s 729us/step - loss: 0.6757 - acc: 0.7640 - val_loss: 0.7243 - val_acc: 0.7532\n",
      "Epoch 21/50\n",
      "36544/45000 [=======================>......] - ETA: 5s - loss: 0.6539 - acc: 0.772245000/45000 [==============================] - 33s 732us/step - loss: 0.6552 - acc: 0.7715 - val_loss: 0.7469 - val_acc: 0.7433\n",
      "Epoch 22/50\n",
      "36288/45000 [=======================>......] - ETA: 6s - loss: 0.6327 - acc: 0.780045000/45000 [==============================] - 33s 735us/step - loss: 0.6323 - acc: 0.7794 - val_loss: 0.7161 - val_acc: 0.7573\n",
      "Epoch 23/50\n",
      "36576/45000 [=======================>......] - ETA: 5s - loss: 0.6109 - acc: 0.786145000/45000 [==============================] - 33s 730us/step - loss: 0.6150 - acc: 0.7851 - val_loss: 0.7165 - val_acc: 0.7580\n",
      "Epoch 24/50\n",
      "36896/45000 [=======================>......] - ETA: 5s - loss: 0.5929 - acc: 0.791745000/45000 [==============================] - 33s 731us/step - loss: 0.5928 - acc: 0.7918 - val_loss: 0.7129 - val_acc: 0.7567\n",
      "Epoch 25/50\n",
      "36768/45000 [=======================>......] - ETA: 5s - loss: 0.5814 - acc: 0.797745000/45000 [==============================] - 33s 733us/step - loss: 0.5828 - acc: 0.7973 - val_loss: 0.7077 - val_acc: 0.7597\n",
      "Epoch 26/50\n",
      "37248/45000 [=======================>......] - ETA: 5s - loss: 0.5577 - acc: 0.803745000/45000 [==============================] - 33s 730us/step - loss: 0.5595 - acc: 0.8038 - val_loss: 0.6882 - val_acc: 0.7675\n",
      "Epoch 27/50\n",
      "36896/45000 [=======================>......] - ETA: 5s - loss: 0.5467 - acc: 0.806845000/45000 [==============================] - 33s 731us/step - loss: 0.5488 - acc: 0.8061 - val_loss: 0.6819 - val_acc: 0.7715\n",
      "Epoch 28/50\n",
      "36608/45000 [=======================>......] - ETA: 5s - loss: 0.5402 - acc: 0.812245000/45000 [==============================] - 33s 736us/step - loss: 0.5375 - acc: 0.8126 - val_loss: 0.6909 - val_acc: 0.7688\n",
      "Epoch 29/50\n",
      "36576/45000 [=======================>......] - ETA: 5s - loss: 0.5189 - acc: 0.817145000/45000 [==============================] - 33s 736us/step - loss: 0.5209 - acc: 0.8175 - val_loss: 0.6935 - val_acc: 0.7689\n",
      "Epoch 30/50\n",
      "36416/45000 [=======================>......] - ETA: 5s - loss: 0.5056 - acc: 0.820245000/45000 [==============================] - 33s 735us/step - loss: 0.5069 - acc: 0.8206 - val_loss: 0.6700 - val_acc: 0.7759\n",
      "Epoch 31/50\n",
      "36640/45000 [=======================>......] - ETA: 5s - loss: 0.4861 - acc: 0.826845000/45000 [==============================] - 33s 733us/step - loss: 0.4862 - acc: 0.8277 - val_loss: 0.6734 - val_acc: 0.7734\n",
      "Epoch 32/50\n",
      "36416/45000 [=======================>......] - ETA: 5s - loss: 0.4757 - acc: 0.831445000/45000 [==============================] - 33s 735us/step - loss: 0.4760 - acc: 0.8317 - val_loss: 0.6847 - val_acc: 0.7724\n",
      "Epoch 33/50\n",
      "36928/45000 [=======================>......] - ETA: 5s - loss: 0.4638 - acc: 0.834945000/45000 [==============================] - 33s 732us/step - loss: 0.4635 - acc: 0.8348 - val_loss: 0.6674 - val_acc: 0.7767\n",
      "Epoch 34/50\n",
      "37248/45000 [=======================>......] - ETA: 5s - loss: 0.4444 - acc: 0.842145000/45000 [==============================] - 33s 733us/step - loss: 0.4485 - acc: 0.8413 - val_loss: 0.6933 - val_acc: 0.7742\n",
      "Epoch 35/50\n",
      "37088/45000 [=======================>......] - ETA: 5s - loss: 0.4406 - acc: 0.842645000/45000 [==============================] - 33s 734us/step - loss: 0.4403 - acc: 0.8434 - val_loss: 0.6824 - val_acc: 0.7738\n",
      "Epoch 36/50\n",
      "36000/45000 [=======================>......] - ETA: 6s - loss: 0.4271 - acc: 0.849745000/45000 [==============================] - 33s 734us/step - loss: 0.4292 - acc: 0.8484 - val_loss: 0.6742 - val_acc: 0.7782\n",
      "Epoch 37/50\n",
      "36800/45000 [=======================>......] - ETA: 5s - loss: 0.4200 - acc: 0.851545000/45000 [==============================] - 33s 734us/step - loss: 0.4217 - acc: 0.8513 - val_loss: 0.6812 - val_acc: 0.7766\n",
      "Epoch 38/50\n"
     ]
    },
    {
     "name": "stdout",
     "output_type": "stream",
     "text": [
      "35648/45000 [======================>.......] - ETA: 6s - loss: 0.4028 - acc: 0.855545000/45000 [==============================] - 33s 734us/step - loss: 0.4043 - acc: 0.8556 - val_loss: 0.6717 - val_acc: 0.7797\n",
      "Epoch 39/50\n",
      "36160/45000 [=======================>......] - ETA: 6s - loss: 0.3894 - acc: 0.863045000/45000 [==============================] - 33s 733us/step - loss: 0.3929 - acc: 0.8616 - val_loss: 0.6806 - val_acc: 0.7812\n",
      "Epoch 40/50\n",
      "36576/45000 [=======================>......] - ETA: 5s - loss: 0.3868 - acc: 0.862545000/45000 [==============================] - 33s 733us/step - loss: 0.3870 - acc: 0.8618 - val_loss: 0.6831 - val_acc: 0.7775\n",
      "Epoch 41/50\n",
      "36768/45000 [=======================>......] - ETA: 5s - loss: 0.3724 - acc: 0.868245000/45000 [==============================] - 33s 734us/step - loss: 0.3747 - acc: 0.8667 - val_loss: 0.6701 - val_acc: 0.7838\n",
      "Epoch 42/50\n",
      "36864/45000 [=======================>......] - ETA: 5s - loss: 0.3685 - acc: 0.868345000/45000 [==============================] - 33s 733us/step - loss: 0.3697 - acc: 0.8677 - val_loss: 0.6739 - val_acc: 0.7816\n",
      "Epoch 43/50\n",
      "35744/45000 [======================>.......] - ETA: 6s - loss: 0.3591 - acc: 0.873145000/45000 [==============================] - 33s 737us/step - loss: 0.3620 - acc: 0.8724 - val_loss: 0.6721 - val_acc: 0.7809\n",
      "Epoch 44/50\n",
      "35808/45000 [======================>.......] - ETA: 6s - loss: 0.3534 - acc: 0.873645000/45000 [==============================] - 33s 735us/step - loss: 0.3519 - acc: 0.8734 - val_loss: 0.6901 - val_acc: 0.7811\n",
      "Epoch 45/50\n",
      "35616/45000 [======================>.......] - ETA: 6s - loss: 0.3424 - acc: 0.879245000/45000 [==============================] - 33s 734us/step - loss: 0.3444 - acc: 0.8785 - val_loss: 0.6758 - val_acc: 0.7821\n",
      "Epoch 46/50\n",
      "35648/45000 [======================>.......] - ETA: 6s - loss: 0.3333 - acc: 0.881845000/45000 [==============================] - 33s 736us/step - loss: 0.3355 - acc: 0.8800 - val_loss: 0.6871 - val_acc: 0.7844\n",
      "Epoch 47/50\n",
      "36192/45000 [=======================>......] - ETA: 6s - loss: 0.3211 - acc: 0.885345000/45000 [==============================] - 33s 735us/step - loss: 0.3237 - acc: 0.8841 - val_loss: 0.6936 - val_acc: 0.7808\n",
      "Epoch 48/50\n",
      "37024/45000 [=======================>......] - ETA: 5s - loss: 0.3209 - acc: 0.886945000/45000 [==============================] - 33s 734us/step - loss: 0.3202 - acc: 0.8875 - val_loss: 0.6968 - val_acc: 0.7824\n",
      "Epoch 49/50\n",
      "36704/45000 [=======================>......] - ETA: 5s - loss: 0.3108 - acc: 0.889545000/45000 [==============================] - 33s 733us/step - loss: 0.3117 - acc: 0.8893 - val_loss: 0.6974 - val_acc: 0.7818\n",
      "Epoch 50/50\n",
      "36544/45000 [=======================>......] - ETA: 5s - loss: 0.3038 - acc: 0.891245000/45000 [==============================] - 33s 733us/step - loss: 0.3055 - acc: 0.8908 - val_loss: 0.7030 - val_acc: 0.7854\n"
     ]
    },
    {
     "data": {
      "text/plain": [
       "<keras.callbacks.History at 0x7f152ef8e630>"
      ]
     },
     "execution_count": 18,
     "metadata": {
      "tags": []
     },
     "output_type": "execute_result"
    }
   ],
   "source": [
    "#Belirlenen parametreler ve eğitim veri seti ile kurulan modelin eğitilmesi\n",
    "model.fit(x_train, y_train,\n",
    "              batch_size=batch_size,\n",
    "              epochs=epochs,\n",
    "              validation_data=(x_test, y_test),\n",
    "              shuffle=True)"
   ]
  },
  {
   "cell_type": "code",
   "execution_count": 19,
   "metadata": {
    "colab": {
     "autoexec": {
      "startup": false,
      "wait_interval": 0
     },
     "base_uri": "https://localhost:8080/",
     "height": 68
    },
    "colab_type": "code",
    "executionInfo": {
     "elapsed": 2426,
     "status": "ok",
     "timestamp": 1525452474852,
     "user": {
      "displayName": "Zeki Kuş",
      "photoUrl": "https://lh3.googleusercontent.com/a/default-user=s128",
      "userId": "113800785453624523681"
     },
     "user_tz": -180
    },
    "id": "5tDo0Mld0daV",
    "outputId": "19fb362b-3247-4791-d724-3360701dc2d3"
   },
   "outputs": [
    {
     "name": "stdout",
     "output_type": "stream",
     "text": [
      "10000/10000 [==============================] - 2s 196us/step\n",
      "Test loss: 0.7030400779247284\n",
      "Test accuracy: 0.7854\n"
     ]
    }
   ],
   "source": [
    "scores = model.evaluate(x_test, y_test, verbose=1)\n",
    "print('Test loss:', scores[0])\n",
    "print('Test accuracy:', scores[1])"
   ]
  },
  {
   "cell_type": "code",
   "execution_count": 0,
   "metadata": {
    "colab": {
     "autoexec": {
      "startup": false,
      "wait_interval": 0
     }
    },
    "colab_type": "code",
    "id": "Iez1M_nV6nZM"
   },
   "outputs": [],
   "source": [
    "# Eğitilen modeli kaydettim.\n",
    "import sys\n",
    "model_name = 'cifar10_model.h5'\n",
    "# Google Colab üzerinden çalıştığım için Google Drive üzerine kaydettim. Bu kısım sizin kaydetmek istediğiniz \n",
    "# dosya yolunu temsil etmektedir.\n",
    "sys.path.insert(0, 'drive/')\n",
    "model.save('drive/' + model_name)"
   ]
  },
  {
   "cell_type": "code",
   "execution_count": null,
   "metadata": {},
   "outputs": [],
   "source": []
  }
 ],
 "metadata": {
  "accelerator": "GPU",
  "colab": {
   "collapsed_sections": [],
   "default_view": {},
   "name": "CIFAR10_Keras.ipynb",
   "provenance": [],
   "version": "0.3.2",
   "views": {}
  },
  "kernelspec": {
   "display_name": "Python 3",
   "language": "python",
   "name": "python3"
  },
  "language_info": {
   "codemirror_mode": {
    "name": "ipython",
    "version": 3
   },
   "file_extension": ".py",
   "mimetype": "text/x-python",
   "name": "python",
   "nbconvert_exporter": "python",
   "pygments_lexer": "ipython3",
   "version": "3.6.4"
  }
 },
 "nbformat": 4,
 "nbformat_minor": 1
}
